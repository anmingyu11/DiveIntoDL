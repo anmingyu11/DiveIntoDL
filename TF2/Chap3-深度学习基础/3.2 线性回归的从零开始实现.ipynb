{
 "cells": [
  {
   "cell_type": "markdown",
   "metadata": {},
   "source": [
    "在了解了线性回归的背景知识之后，现在我们可以动手实现它了。\n",
    "\n",
    "尽管强大的深度学习框架可以减少大量重复性工作，但若过于依赖它提供的便利，会导致我们很难深入理解深度学习是如何工作的。\n",
    "\n",
    "因此，本节将介绍如何只利用Tensor和GradientTape来实现一个线性回归的训练。\n",
    "\n",
    "首先，导入本节中实验所需的包或模块，其中的matplotlib包可用于作图，且设置成嵌入显示。"
   ]
  },
  {
   "cell_type": "code",
   "execution_count": 1,
   "metadata": {},
   "outputs": [
    {
     "name": "stdout",
     "output_type": "stream",
     "text": [
      "2.5.0\n"
     ]
    }
   ],
   "source": [
    "%matplotlib inline\n",
    "import tensorflow as tf\n",
    "print(tf.__version__)\n",
    "import matplotlib.pyplot as plt\n",
    "import random"
   ]
  },
  {
   "cell_type": "markdown",
   "metadata": {},
   "source": [
    "## 3.2.1 生成数据集"
   ]
  },
  {
   "cell_type": "markdown",
   "metadata": {},
   "source": [
    "我们构造一个简单的人工训练数据集，它可以使我们能够直观比较学到的参数和真实的模型参数的区别。\n",
    "\n",
    "设训练数据集样本数为1000，输入个数（特征数）为2。\n",
    "\n",
    "给定随机生成的批量样本特征 $\\boldsymbol{X} \\in \\mathbb{R}^{1000 \\times 2}$，我们使用线性回归模型真实权重 $\\boldsymbol{w} = [2, -3.4]^\\top$ 和偏差 $b = 4.2$，以及一个随机噪声项 $\\epsilon$ 来生成标签 $$ \\boldsymbol{y} = \\boldsymbol{X}\\boldsymbol{w} + b + \\epsilon $$"
   ]
  },
  {
   "cell_type": "markdown",
   "metadata": {},
   "source": [
    "其中噪声项 $\\epsilon$ 服从均值为0、标准差为0.01的正态分布。噪声代表了数据集中无意义的干扰。\n",
    "\n",
    "下面，让我们生成数据集。"
   ]
  },
  {
   "cell_type": "code",
   "execution_count": 2,
   "metadata": {},
   "outputs": [
    {
     "data": {
      "text/plain": [
       "TensorShape([1000])"
      ]
     },
     "execution_count": 2,
     "metadata": {},
     "output_type": "execute_result"
    }
   ],
   "source": [
    "num_inputs = 2\n",
    "num_examples = 1000\n",
    "\n",
    "true_w = [2,-3.4]\n",
    "true_b = 4.2\n",
    "\n",
    "features = tf.random.normal((num_examples,num_inputs),stddev=1)\n",
    "\n",
    "labels = true_w[0] * features[:,0] + true_w[1] * features[:,1] + true_b\n",
    "labels.shape"
   ]
  },
  {
   "cell_type": "code",
   "execution_count": 3,
   "metadata": {},
   "outputs": [],
   "source": [
    "labels += tf.random.normal(labels.shape, stddev=0.01)"
   ]
  },
  {
   "cell_type": "code",
   "execution_count": 4,
   "metadata": {
    "scrolled": true
   },
   "outputs": [
    {
     "data": {
      "text/plain": [
       "TensorShape([1000])"
      ]
     },
     "execution_count": 4,
     "metadata": {},
     "output_type": "execute_result"
    }
   ],
   "source": [
    "labels.shape"
   ]
  },
  {
   "cell_type": "markdown",
   "metadata": {},
   "source": [
    "注意，features 的每一行是一个长度为 2 的向量，而 labels 的每一行是一个长度为 1 的向量（标量）。"
   ]
  },
  {
   "cell_type": "code",
   "execution_count": 5,
   "metadata": {},
   "outputs": [
    {
     "name": "stdout",
     "output_type": "stream",
     "text": [
      "tf.Tensor([ 0.0651636  -0.08652201], shape=(2,), dtype=float32) tf.Tensor(4.6187706, shape=(), dtype=float32)\n"
     ]
    }
   ],
   "source": [
    "print(features[0],labels[0])"
   ]
  },
  {
   "cell_type": "markdown",
   "metadata": {},
   "source": [
    "通过生成第二个特征features[:, 1]和标签 labels 的散点图，可以更直观地观察两者间的线性关系。"
   ]
  },
  {
   "cell_type": "code",
   "execution_count": 6,
   "metadata": {},
   "outputs": [
    {
     "data": {
      "text/plain": [
       "<matplotlib.collections.PathCollection at 0x7f55f5537f60>"
      ]
     },
     "execution_count": 6,
     "metadata": {},
     "output_type": "execute_result"
    },
    {
     "data": {
      "image/png": "[encoded data removed]",
      "text/plain": [
       "<Figure size 252x180 with 1 Axes>"
      ]
     },
     "metadata": {
      "needs_background": "light"
     },
     "output_type": "display_data"
    }
   ],
   "source": [
    "def set_figsize(figsize=(3.5,2.5)):\n",
    "    plt.rcParams['figure.figsize'] = figsize\n",
    "    \n",
    "set_figsize()\n",
    "plt.scatter(features[:,1],labels,1)"
   ]
  },
  {
   "cell_type": "markdown",
   "metadata": {},
   "source": [
    "## 3.2.2 读取数据"
   ]
  },
  {
   "cell_type": "markdown",
   "metadata": {},
   "source": [
    "在训练模型的时候，我们需要遍历数据集并不断读取小批量数据样本。\n",
    "\n",
    "这里我们定义一个函数：它每次返回 batch_size（批量大小）个随机样本的特征和标签。"
   ]
  },
  {
   "cell_type": "code",
   "execution_count": 7,
   "metadata": {},
   "outputs": [],
   "source": [
    "def data_iter(batch_size,features,labels):\n",
    "    num_examples = len(features)\n",
    "    idxs = list(range(num_examples))\n",
    "    random.shuffle(idxs)\n",
    "    \n",
    "    for i in range(0, num_examples, batch_size):\n",
    "        j = idxs[i : min(i + batch_size, num_examples)]\n",
    "        yield tf.gather(features,axis=0,indices=j),tf.gather(labels,axis=0,indices=j)"
   ]
  },
  {
   "cell_type": "markdown",
   "metadata": {},
   "source": [
    "让我们读取第一个小批量数据样本并打印。每个批量的特征形状为(10, 2)，分别对应批量大小和输入个数；标签形状为批量大小。"
   ]
  },
  {
   "cell_type": "code",
   "execution_count": 8,
   "metadata": {},
   "outputs": [
    {
     "name": "stdout",
     "output_type": "stream",
     "text": [
      "tf.Tensor(\n",
      "[[-0.17205659 -0.9768843 ]\n",
      " [ 0.52273226  0.638269  ]\n",
      " [ 0.70116854 -0.4922135 ]\n",
      " [-1.4858334  -0.8460434 ]\n",
      " [ 0.05539612  0.3443882 ]\n",
      " [-0.7713595  -0.5591494 ]\n",
      " [-1.1851933  -1.5614344 ]\n",
      " [ 0.31416166  0.05419862]\n",
      " [ 0.627155   -1.6464456 ]\n",
      " [-0.28019595  0.8177773 ]], shape=(10, 2), dtype=float32) tf.Tensor(\n",
      "[ 7.178976   3.074776   7.2804446  4.113937   3.1460993  4.5595665\n",
      "  7.1316833  4.6354213 11.056623   0.8579834], shape=(10,), dtype=float32)\n"
     ]
    }
   ],
   "source": [
    "batch_size = 10\n",
    "\n",
    "for X,y in data_iter(batch_size, features, labels):\n",
    "    print(X,y)\n",
    "    break"
   ]
  },
  {
   "cell_type": "markdown",
   "metadata": {},
   "source": [
    "## 3.2.3 初始化模型参数"
   ]
  },
  {
   "cell_type": "markdown",
   "metadata": {},
   "source": [
    "我们将权重初始化成均值为0、标准差为0.01的正态随机数，偏差则初始化成0。"
   ]
  },
  {
   "cell_type": "code",
   "execution_count": 9,
   "metadata": {},
   "outputs": [],
   "source": [
    "w = tf.Variable(tf.random.normal((num_inputs, 1), stddev=0.01))\n",
    "b = tf.Variable(tf.zeros((1,)))"
   ]
  },
  {
   "cell_type": "markdown",
   "metadata": {},
   "source": [
    "## 3.2.4 定义模型"
   ]
  },
  {
   "cell_type": "code",
   "execution_count": 10,
   "metadata": {},
   "outputs": [],
   "source": [
    "def linreg(X, w, b):\n",
    "    return tf.matmul(X,w) + b"
   ]
  },
  {
   "cell_type": "markdown",
   "metadata": {},
   "source": [
    "## 3.2.5 定义损失函数"
   ]
  },
  {
   "cell_type": "markdown",
   "metadata": {},
   "source": [
    "我们使用上一节描述的平方损失来定义线性回归的损失函数。在实现中，我们需要把真实值 y 变形成预测值 y_hat 的形状。以下函数返回的结果也将和 y_hat 的形状相同。"
   ]
  },
  {
   "cell_type": "code",
   "execution_count": 11,
   "metadata": {},
   "outputs": [],
   "source": [
    "def squared_loss(y_hat,y):\n",
    "    return (y_hat - tf.reshape(y, y_hat.shape)) ** 2 / 2"
   ]
  },
  {
   "cell_type": "markdown",
   "metadata": {},
   "source": [
    "## 3.2.6 定义优化算法"
   ]
  },
  {
   "cell_type": "markdown",
   "metadata": {},
   "source": [
    "以下的 sgd 函数实现了上一节中介绍的小批量随机梯度下降算法。\n",
    "\n",
    "它通过不断迭代模型参数来优化损失函数。\n",
    "\n",
    "这里自动求梯度模块计算得来的梯度是一个批量样本的梯度和。\n",
    "\n",
    "我们将它除以批量大小来得到平均值。"
   ]
  },
  {
   "cell_type": "code",
   "execution_count": 12,
   "metadata": {},
   "outputs": [],
   "source": [
    "def sgd(params, lr, batch_size, grads):\n",
    "    \"\"\"Mini-batch stochastic gradient descent.\"\"\"\n",
    "    for i, param in enumerate(params):\n",
    "        param.assign_sub(lr * grads[i] / batch_size)"
   ]
  },
  {
   "cell_type": "markdown",
   "metadata": {},
   "source": [
    "## 3.2.7 训练模型"
   ]
  },
  {
   "cell_type": "markdown",
   "metadata": {},
   "source": [
    "在训练中，我们将多次迭代模型参数。\n",
    "\n",
    "在每次迭代中，我们根据当前读取的小批量数据样本(特征 X 和标签 y)，通过调用反向函数 t.gradients 计算小批量随机梯度，并调用优化算法 sgd 迭代模型参数。\n",
    "\n",
    "由于我们之前设批量大小 batch_size 为 10 ，每个小批量的损失 l 的形状为 (10, 1)。\n",
    "\n",
    "回忆一下自动求梯度一节。由于变量 l 并不是一个标量，所以我们可以调用 reduce_sum() 将其求和得到一个标量，再运行 t.gradients得到该变量有关模型参数的梯度。\n",
    "\n",
    "注意在每次更新完参数后不要忘了将参数的梯度清零。"
   ]
  },
  {
   "cell_type": "markdown",
   "metadata": {},
   "source": [
    "在一个迭代周期（epoch）中，我们将完整遍历一遍data_iter函数，并对训练数据集中所有样本都使用一次（假设样本数能够被批量大小整除）。\n",
    "\n",
    "这里的迭代周期个数num_epochs和学习率lr都是超参数，分别设3和0.03。\n",
    "\n",
    "在实践中，大多超参数都需要通过反复试错来不断调节。\n",
    "\n",
    "虽然迭代周期数设得越大模型可能越有效，但是训练时间可能过长。\n",
    "\n",
    "而有关学习率对模型的影响，我们会在后面“优化算法”一章中详细介绍。"
   ]
  },
  {
   "cell_type": "code",
   "execution_count": 13,
   "metadata": {},
   "outputs": [],
   "source": [
    "lr = 0.03\n",
    "num_epochs = 3\n",
    "net = linreg\n",
    "loss = squared_loss"
   ]
  },
  {
   "cell_type": "code",
   "execution_count": 14,
   "metadata": {},
   "outputs": [
    {
     "name": "stdout",
     "output_type": "stream",
     "text": [
      "epoch 1, loss 0.030995\n",
      "epoch 2, loss 0.000106\n",
      "epoch 3, loss 0.000048\n"
     ]
    }
   ],
   "source": [
    "for epoch in range(num_epochs):\n",
    "    for X,y in data_iter(batch_size,features,labels):\n",
    "        with tf.GradientTape() as t:\n",
    "            t.watch([w,b])\n",
    "            l = tf.reduce_sum(loss(net(X, w, b),y))\n",
    "        grads = t.gradient(l, [w,b])\n",
    "        sgd([w,b], lr, batch_size, grads)\n",
    "    train_l = loss(net(features,w,b), labels)\n",
    "    print('epoch %d, loss %f' % (epoch + 1, tf.reduce_mean(train_l)))"
   ]
  },
  {
   "cell_type": "markdown",
   "metadata": {},
   "source": [
    "输出： epoch 1, loss 0.028907 epoch 2, loss 0.000101 epoch 3, loss 0.000049\n",
    "\n",
    "训练完成后，我们可以比较学到的参数和用来生成训练集的真实参数。它们应该很接近。"
   ]
  },
  {
   "cell_type": "code",
   "execution_count": 15,
   "metadata": {},
   "outputs": [
    {
     "data": {
      "text/plain": [
       "[2, -3.4]"
      ]
     },
     "execution_count": 15,
     "metadata": {},
     "output_type": "execute_result"
    }
   ],
   "source": [
    "true_w"
   ]
  },
  {
   "cell_type": "code",
   "execution_count": 16,
   "metadata": {},
   "outputs": [
    {
     "data": {
      "text/plain": [
       "<tf.Variable 'Variable:0' shape=(2, 1) dtype=float32, numpy=\n",
       "array([[ 1.9995718],\n",
       "       [-3.3998516]], dtype=float32)>"
      ]
     },
     "execution_count": 16,
     "metadata": {},
     "output_type": "execute_result"
    }
   ],
   "source": [
    "w"
   ]
  },
  {
   "cell_type": "code",
   "execution_count": 17,
   "metadata": {},
   "outputs": [
    {
     "data": {
      "text/plain": [
       "4.2"
      ]
     },
     "execution_count": 17,
     "metadata": {},
     "output_type": "execute_result"
    }
   ],
   "source": [
    "true_b"
   ]
  },
  {
   "cell_type": "code",
   "execution_count": 18,
   "metadata": {},
   "outputs": [
    {
     "data": {
      "text/plain": [
       "<tf.Variable 'Variable:0' shape=(1,) dtype=float32, numpy=array([4.1993127], dtype=float32)>"
      ]
     },
     "execution_count": 18,
     "metadata": {},
     "output_type": "execute_result"
    }
   ],
   "source": [
    "b"
   ]
  }
 ],
 "metadata": {
  "kernelspec": {
   "display_name": "Python 3",
   "language": "python",
   "name": "python3"
  },
  "language_info": {
   "codemirror_mode": {
    "name": "ipython",
    "version": 3
   },
   "file_extension": ".py",
   "mimetype": "text/x-python",
   "name": "python",
   "nbconvert_exporter": "python",
   "pygments_lexer": "ipython3",
   "version": "3.6.9"
  }
 },
 "nbformat": 4,
 "nbformat_minor": 2
}
