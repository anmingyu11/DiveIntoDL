{
 "cells": [
  {
   "cell_type": "markdown",
   "metadata": {},
   "source": [
    "线性回归输出是一个连续值，因此适用于回归问题。\n",
    "\n",
    "回归问题在实际中很常见，如预测房屋价格、气温、销售额等连续值的问题。\n",
    "\n",
    "与回归问题不同，分类问题中模型的最终输出是一个离散值。\n",
    "\n",
    "我们所说的图像分类、垃圾邮件识别、疾病检测等输出为离散值的问题都属于分类问题的范畴。\n",
    "\n",
    "softmax回归则适用于分类问题。\n",
    "\n",
    "由于线性回归和softmax回归都是单层神经网络，它们涉及的概念和技术同样适用于大多数的深度学习模型。\n",
    "\n",
    "我们首先以线性回归为例，介绍大多数深度学习模型的基本要素和表示方法。"
   ]
  },
  {
   "cell_type": "markdown",
   "metadata": {},
   "source": [
    "# 3.1.1 线性回归的基本要素"
   ]
  },
  {
   "cell_type": "markdown",
   "metadata": {},
   "source": [
    "我们以一个简单的房屋价格预测作为例子来解释线性回归的基本要素。\n",
    "\n",
    "这个应用的目标是预测一栋房子的售出价格（元）。\n",
    "\n",
    "我们知道这个价格取决于很多因素，如房屋状况、地段、市场行情等。\n",
    "\n",
    "为了简单起见，这里我们假设价格只取决于房屋状况的两个因素，即面积（平方米）和房龄（年）。\n",
    "\n",
    "接下来我们希望探索价格与这两个因素的具体关系。"
   ]
  },
  {
   "cell_type": "markdown",
   "metadata": {},
   "source": [
    "## 3.1.1.1 模型定义\n"
   ]
  },
  {
   "cell_type": "markdown",
   "metadata": {},
   "source": [
    "设房屋的面积为 $x_1$，房龄为 $x_2$ 售出价格为 $y$。\n",
    "\n",
    "我们需要建立基于输入 $x_1$ 和 $x_2$ 来计算输出 $y$ 的表达式，也就是模型（model）。\n",
    "\n",
    "顾名思义，线性回归假设输出与各个输入之间是线性关系："
   ]
  },
  {
   "cell_type": "markdown",
   "metadata": {},
   "source": [
    "$$\n",
    "\\hat{y}=x_{1} w_{1}+x_{2} w_{2}+b\n",
    "$$"
   ]
  },
  {
   "cell_type": "markdown",
   "metadata": {},
   "source": [
    "其中 $w_1$ 和 $w_2$ 是权重（weight），$b$ 是偏差（bias），且均为标量。它们是线性回归模型的参数（parameter）。\n",
    "\n",
    "模型输出 $\\hat{y}$ 是线性回归对真实价格 y 的预测或估计。\n",
    "\n",
    "我们通常允许它们之间有一定误差。"
   ]
  },
  {
   "cell_type": "code",
   "execution_count": null,
   "metadata": {},
   "outputs": [],
   "source": []
  }
 ],
 "metadata": {
  "kernelspec": {
   "display_name": "Python 3",
   "language": "python",
   "name": "python3"
  },
  "language_info": {
   "codemirror_mode": {
    "name": "ipython",
    "version": 3
   },
   "file_extension": ".py",
   "mimetype": "text/x-python",
   "name": "python",
   "nbconvert_exporter": "python",
   "pygments_lexer": "ipython3",
   "version": "3.6.9"
  }
 },
 "nbformat": 4,
 "nbformat_minor": 4
}
